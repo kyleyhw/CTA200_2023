{
 "cells": [
  {
   "cell_type": "code",
   "execution_count": 1,
   "id": "087c827a",
   "metadata": {},
   "outputs": [],
   "source": [
    "import numpy as np"
   ]
  },
  {
   "cell_type": "code",
   "execution_count": 2,
   "id": "d73f900c",
   "metadata": {},
   "outputs": [],
   "source": [
    "def f(x):\n",
    "    return x**3 - x**2 - 1\n",
    "\n",
    "def df(x):\n",
    "    return 3*x**2 - 2*x"
   ]
  },
  {
   "cell_type": "code",
   "execution_count": 30,
   "id": "d5f3b6ca",
   "metadata": {},
   "outputs": [],
   "source": [
    "def newton(f, df, x0, epsilon=1e-6, max_iter=30):\n",
    "    result = f(x0)\n",
    "    for i in range(max_iter):\n",
    "        print(result)\n",
    "        if np.abs(f(result)) < epsilon:\n",
    "            print('Found root in %i iterations' %(i))\n",
    "            return result\n",
    "        result = result - f(result) / df(result)\n",
    "    print('Iteration failed')\n",
    "    return"
   ]
  },
  {
   "cell_type": "code",
   "execution_count": 31,
   "id": "b22eb503",
   "metadata": {},
   "outputs": [
    {
     "name": "stdout",
     "output_type": "stream",
     "text": [
      "-1\n",
      "-0.4\n",
      "0.5562499999999998\n",
      "-5.616093385626448\n",
      "-3.6352941982122804\n",
      "-2.3083226501418337\n",
      "-1.4041299232350632\n",
      "-0.7461068879377445\n",
      "-0.12249364089611725\n",
      "3.383843979489897\n",
      "2.4305220447510605\n",
      "1.85120751980739\n",
      "1.5597939575487811\n",
      "1.4731870737317463\n",
      "1.465626751101066\n",
      "1.4655712348572754\n",
      "Found root in 15 iterations\n"
     ]
    },
    {
     "data": {
      "text/plain": [
       "1.4655712348572754"
      ]
     },
     "execution_count": 31,
     "metadata": {},
     "output_type": "execute_result"
    }
   ],
   "source": [
    "x0 = 1\n",
    "newton(f=f, df=df, x0=x0)"
   ]
  },
  {
   "cell_type": "code",
   "execution_count": 34,
   "id": "8803ef8f",
   "metadata": {},
   "outputs": [
    {
     "name": "stdout",
     "output_type": "stream",
     "text": [
      "-1\n",
      "-0.4\n",
      "0.5562499999999998\n",
      "-5.616093385626448\n",
      "-3.6352941982122804\n",
      "-2.3083226501418337\n",
      "-1.4041299232350632\n",
      "-0.7461068879377445\n",
      "-0.12249364089611725\n",
      "3.383843979489897\n",
      "2.4305220447510605\n",
      "1.85120751980739\n",
      "1.5597939575487811\n",
      "1.4731870737317463\n",
      "1.465626751101066\n",
      "1.4655712348572754\n",
      "Found root in 15 iterations\n"
     ]
    },
    {
     "data": {
      "text/plain": [
       "1.4655712348572754"
      ]
     },
     "execution_count": 34,
     "metadata": {},
     "output_type": "execute_result"
    }
   ],
   "source": [
    "x0=0\n",
    "newton(f=f, df=df, x0=x0)"
   ]
  },
  {
   "cell_type": "code",
   "execution_count": 35,
   "id": "982f6134",
   "metadata": {},
   "outputs": [
    {
     "name": "stdout",
     "output_type": "stream",
     "text": [
      "-0.002005374999999976\n",
      "248.58117141538048\n",
      "165.83219625238013\n",
      "110.66636926655403\n",
      "73.88939140704508\n",
      "49.37177861925812\n",
      "33.0272896790393\n",
      "22.131905130271427\n",
      "14.869867072483146\n",
      "10.03114941981466\n",
      "6.81000266153668\n",
      "4.671138109726021\n",
      "3.2615211534695123\n",
      "2.353391402024864\n",
      "1.8079277711049415\n",
      "1.5428538662058386\n",
      "1.4708012798404184\n",
      "1.465597498341244\n",
      "1.4655712325439185\n",
      "Found root in 18 iterations\n"
     ]
    },
    {
     "data": {
      "text/plain": [
       "1.4655712325439185"
      ]
     },
     "execution_count": 35,
     "metadata": {},
     "output_type": "execute_result"
    }
   ],
   "source": [
    "x0=1.465\n",
    "newton(f=f, df=df, x0=x0)"
   ]
  },
  {
   "cell_type": "code",
   "execution_count": 36,
   "id": "f02bbe26",
   "metadata": {},
   "outputs": [
    {
     "name": "stdout",
     "output_type": "stream",
     "text": [
      "-1\n",
      "-0.4\n",
      "0.5562499999999998\n",
      "-5.616093385626448\n",
      "-3.6352941982122804\n",
      "-2.3083226501418337\n",
      "-1.4041299232350632\n",
      "-0.7461068879377445\n",
      "-0.12249364089611725\n",
      "3.383843979489897\n",
      "2.4305220447510605\n",
      "1.85120751980739\n",
      "1.5597939575487811\n",
      "1.4731870737317463\n",
      "1.465626751101066\n",
      "1.4655712348572754\n",
      "1.465571231876768\n",
      "Found root in 16 iterations\n"
     ]
    },
    {
     "data": {
      "text/plain": [
       "1.465571231876768"
      ]
     },
     "execution_count": 36,
     "metadata": {},
     "output_type": "execute_result"
    }
   ],
   "source": [
    "x0=1\n",
    "newton(f=f, df=df, x0=x0, epsilon=1e-8)"
   ]
  },
  {
   "cell_type": "code",
   "execution_count": 37,
   "id": "c169fa22",
   "metadata": {},
   "outputs": [
    {
     "name": "stdout",
     "output_type": "stream",
     "text": [
      "-1\n",
      "-0.4\n",
      "0.5562499999999998\n",
      "-5.616093385626448\n",
      "-3.6352941982122804\n",
      "-2.3083226501418337\n",
      "-1.4041299232350632\n",
      "-0.7461068879377445\n",
      "-0.12249364089611725\n",
      "3.383843979489897\n",
      "2.4305220447510605\n",
      "1.85120751980739\n",
      "1.5597939575487811\n",
      "1.4731870737317463\n",
      "1.465626751101066\n",
      "1.4655712348572754\n",
      "1.465571231876768\n",
      "Found root in 16 iterations\n"
     ]
    },
    {
     "data": {
      "text/plain": [
       "1.465571231876768"
      ]
     },
     "execution_count": 37,
     "metadata": {},
     "output_type": "execute_result"
    }
   ],
   "source": [
    "x0=0\n",
    "newton(f=f, df=df, x0=x0, epsilon=1e-8)"
   ]
  },
  {
   "cell_type": "code",
   "execution_count": 38,
   "id": "47cad944",
   "metadata": {},
   "outputs": [
    {
     "name": "stdout",
     "output_type": "stream",
     "text": [
      "-0.002005374999999976\n",
      "248.58117141538048\n",
      "165.83219625238013\n",
      "110.66636926655403\n",
      "73.88939140704508\n",
      "49.37177861925812\n",
      "33.0272896790393\n",
      "22.131905130271427\n",
      "14.869867072483146\n",
      "10.03114941981466\n",
      "6.81000266153668\n",
      "4.671138109726021\n",
      "3.2615211534695123\n",
      "2.353391402024864\n",
      "1.8079277711049415\n",
      "1.5428538662058386\n",
      "1.4708012798404184\n",
      "1.465597498341244\n",
      "1.4655712325439185\n",
      "Found root in 18 iterations\n"
     ]
    },
    {
     "data": {
      "text/plain": [
       "1.4655712325439185"
      ]
     },
     "execution_count": 38,
     "metadata": {},
     "output_type": "execute_result"
    }
   ],
   "source": [
    "x0=1.465\n",
    "newton(f=f, df=df, x0=x0, epsilon=1e-8)"
   ]
  },
  {
   "cell_type": "code",
   "execution_count": null,
   "id": "a573badf",
   "metadata": {},
   "outputs": [],
   "source": []
  }
 ],
 "metadata": {
  "kernelspec": {
   "display_name": "Python 3 (ipykernel)",
   "language": "python",
   "name": "python3"
  },
  "language_info": {
   "codemirror_mode": {
    "name": "ipython",
    "version": 3
   },
   "file_extension": ".py",
   "mimetype": "text/x-python",
   "name": "python",
   "nbconvert_exporter": "python",
   "pygments_lexer": "ipython3",
   "version": "3.10.9"
  }
 },
 "nbformat": 4,
 "nbformat_minor": 5
}
